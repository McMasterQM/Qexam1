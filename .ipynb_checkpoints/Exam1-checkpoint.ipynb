{
 "cells": [
  {
   "cell_type": "markdown",
   "metadata": {},
   "source": [
    "# Knowledge Test 1\n",
    "\n",
    "## &#x1f468;&#x200d;&#x1f3eb; Purpose\n",
    "This contains questions about the course material\n",
    "1. &#x1f3b2; Multiple-Choice Questions. (One or more answers, separated by spaces or commas.)\n",
    "2. &#x1fa99; True/False Questions. (Write True/False.)\n",
    "3. &#x1F5A9; Numerical answers requiring some calculation. (Write the numerical answer in the requested units with at least 4 digits of precision.)\n",
    "4. &#x1f9ee; Numerical answers requiring minimal calculation or counting. (Write the answer as a number.)\n",
    "4. &#x1f500; Matching Questions. (Write pairs sequentially.)\n",
    "\n",
    "> **Notes:**\n",
    ">- You can upload files to show your mathematical work; you can also type mathematics using Markdown.\n",
    ">- You can use the notebook as a calculator for numerical problems; but you can also just type in your answer computed offline.\n",
    ">- You may find these [sheets containing reference data and mathematical formulas/identities](https://github.com/QC-Edu/IntroQM2022/blob/master/book/documents/ReferenceConstantsConversionsMath.pdf) useful.\n",
    "\n",
    "\n",
    "-----\n",
    "## &#x1f4dc; Instructions\n",
    "\n",
    "Answer the following 10 questions. Remember to *always* put your answer in the indicated position and never use the bold-faced word \"Answer\" elsewhere. Other than that restriction, the rest of your notebook is yours to play with.\n"
   ]
  },
  {
   "cell_type": "code",
   "execution_count": 2,
   "metadata": {},
   "outputs": [],
   "source": [
    "import numpy as np\n",
    "import scipy\n",
    "from scipy import constants"
   ]
  },
  {
   "cell_type": "markdown",
   "metadata": {},
   "source": [
    "-----\n",
    "**1.** &#x1f500;Below is a list of terms in the molecular Hamiltonian, together with their mathematical expressions (in atomic units). **Match the verbal description of the term to its mathematical expression.**\n",
    "\n",
    "|Physical Quantity|Equation|\n",
    "|--|--|\n",
    "|**A.** electronic kinetic energy | **1.** $\\sum_{A=1}^{P-1} \\sum_{B=A+1}^P \\frac{Z_A Z_B}{\\lvert \\mathbf{x}_A - \\mathbf{x}_B \\rvert} $ |\n",
    "|**B.** nuclear kinetic energy   | **2.** $\\sum_{A=1}^P -\\tfrac{1}{2m_A} \\nabla^2_{\\mathbf{x}_A} $ |\n",
    "|**C.** electron-electron repulsion potential | **3.** $ \\sum_{i=1}^N \\sum_{A=1}^P -\\frac{Z_A}{\\lvert \\mathbf{r}_i - \\mathbf{x}_A \\rvert} $ |\n",
    "|**D.** nucleus-nucleus repulsion potential    | **4.** $\\sum_{i=1}^N -\\tfrac{1}{2} \\nabla^2_{\\mathbf{r}_i} $ |\n",
    "|**E.** elecron-nuclear attraction potential| **5.**  $\\sum_{i=1}^{N-1} \\sum_{j=i+1}^N \\frac{1}{\\lvert \\mathbf{r}_i - \\mathbf{r}_j \\rvert} $ | \n",
    "\n",
    "**Answer:** A, 4, B, 2, C, 5, D, 1, E, 3"
   ]
  },
  {
   "cell_type": "markdown",
   "metadata": {},
   "source": [
    "------\n",
    "**2.** &#x1f500;Below are lists of different Hamiltonians/operators we considered in the course, together with the names of functions that are related to their solutions. **Match each operator with the type of (special) functions that are its eigenfunctions.** \n",
    "\n",
    "|Special Function|Hamiltonian|\n",
    "|--|--|\n",
    "|**A.** associated Laguerre polynomials | **1.** $ -\\frac{\\hbar^2}{2m} \\left(\\frac{1}{r^2} \\frac{d^2}{dr^2} + \\frac{1}{r} \\frac{d}{dr} - \\frac{l^2}{r^2}\\right) $ |\n",
    "|**B.** sines and cosines   | **2.** $ - \\hbar^2 \\left[\\frac{1}{\\sin \\theta}\\frac{d}{d\\theta}\\sin\\theta\\frac{d}{d\\theta} + \\frac{1}{\\sin^2 \\theta} \\frac{d^2}{d\\phi^2}\\right] $ |\n",
    "|**C.** Bessel functions | **3.** $ -\\frac{1}{2} \\left( \\frac{d^2}{dr^2} + \\frac{2}{r} \\frac{d}{dr}\\right) + \\frac{l(l+1)}{2r^2} - \\frac{Z}{r}$ |\n",
    "|**D.** spherical harmonics    | **4.** $ \\frac{d^2}{dx^2} $ |\n",
    "|**E.** Hermite polynomials| **5.**  $-\\frac{\\hbar^2}{2\\mu} \\frac{d^2}{dx^2} + \\frac{1}{2}kx^2 $ | \n",
    "\n",
    "**Answer:** A, 3, B, 4, C, 1, D, 2, E, 5"
   ]
  },
  {
   "cell_type": "markdown",
   "metadata": {},
   "source": [
    "------\n",
    "**3.** &#x1f9ee; How many quantum numbers are needed to label the eigenstates of the following Hamiltonian? Don't include quantum numbers related to spin.\n",
    "\n",
    "$$\n",
    "\\hat{H} =  -\\frac{\\hbar^2}{2m}\\frac{d^2}{dx_1^2}\n",
    " -\\frac{\\hbar^2}{2m}\\frac{d^2}{dy_1^2}\n",
    "-\\frac{\\hbar^2}{2m}\\frac{d^2}{dx_2^2}-\\frac{\\hbar^2}{2m}\\frac{d^2}{dy_2^2} + x_1^2 + y_1^2 + x_2^2 + y_2^2 + e^{-2\\left(x_1^2 + y_1^2\\right)} + e^{-2\\left(x_2^2 + y_2^2\\right)} \n",
    "$$\n",
    "\n",
    "**Answer:** 4"
   ]
  },
  {
   "cell_type": "markdown",
   "metadata": {},
   "source": [
    "---\n",
    "**4.** &#x1F5A9; What is the zero-point energy for an electron confined to a 2-dimensional circular disk of radius $0.5 \\text{ a.u.}$. **Give your answer in atomic units (Hartree).**\n",
    "\n",
    "**Answer:** 11.57"
   ]
  },
  {
   "cell_type": "markdown",
   "metadata": {},
   "source": [
    "---\n",
    "**5.** &#x1F5A9; An experimental study of the photoelectric effect is performed on a sample of Potassium metal, which has a work function of $\\Phi = 2.29 \\text{ eV}$. The maximum kinetic energy of the emitted electrons is 1.00 eV. **What is the wavelength of the light that is shinging on the Cesium surface?** Give your answer in nanometers.\n",
    "\n",
    "**Answer:** 376.9"
   ]
  },
  {
   "cell_type": "markdown",
   "metadata": {},
   "source": [
    "The total energy of the light that is impinging on the surface must be 2.29 eV + 1.00 eV, or 3.29 eV. Then, using Planck's law and the conversion factor for eV to Joules,\n",
    "$$\n",
    "h \\nu = \\frac{hc}{\\lambda} = 3.14 \\text{ eV} \\cdot 1.602\\cdot 10^{-19}\\tfrac{J}{eV}\n",
    "$$\n",
    "Rearranging,\n",
    "$$\n",
    "\\lambda = \\frac{hc}{E}\n",
    "$$"
   ]
  },
  {
   "cell_type": "code",
   "execution_count": 9,
   "metadata": {},
   "outputs": [
    {
     "name": "stdout",
     "output_type": "stream",
     "text": [
      "The wavelength of the impending light is 376.9 nm.\n"
     ]
    }
   ],
   "source": [
    "# Convert energy to Joules (SI)\n",
    "E_in_J = 3.29 * constants.electron_volt\n",
    "\n",
    "# Compute wavelength in meters\n",
    "wavelength_in_m = constants.h*constants.c/E_in_J\n",
    "\n",
    "# Convert wavelengt to nanometers\n",
    "wavelength_in_nm = wavelength_in_m*1e9\n",
    "\n",
    "print(f'The wavelength of the impending light is {wavelength_in_nm:.1f} nm.')"
   ]
  },
  {
   "cell_type": "markdown",
   "metadata": {},
   "source": [
    "-----\n",
    "**5.** &#x1f3b2; Because the chemical bond in CO is so strong, the rigid rotor is an excellent approximaton to the rotation of CO. It is sometimes interesting to measure rotational spectra for several different isotopes. For example, we could measure the rotational spectrum for ${}_6^{12}\\text{C}{}_8^{16}\\text{O}$ and ${}_6^{14}\\text{C}{}_8^{18}\\text{O}$. **The spacing between rotational levels is**\n",
    "\n",
    "**A.** Greater in ${}_6^{12}\\text{C}{}_8^{16}\\text{O}$ than in ${}_6^{14}\\text{C}{}_8^{18}\\text{O}$ \n",
    "\n",
    "**B.** Smaller in ${}_6^{12}\\text{C}{}_8^{16}\\text{O}$ than in ${}_6^{14}\\text{C}{}_8^{18}\\text{O}$\n",
    "\n",
    "**C.** The same in ${}_6^{12}\\text{C}{}_8^{16}\\text{O}$ and ${}_6^{14}\\text{C}{}_8^{18}\\text{O}$  \n",
    "\n",
    "**Answer:** A"
   ]
  },
  {
   "cell_type": "markdown",
   "metadata": {},
   "source": [
    "The more massive the molecule, the closer it is to classical and the narrower the spacing between energy levels. More precisely, since the energy levels are given by $E_J = \\frac{\\hbar J (J+1)}{2\\mu r_e^2}$, the larger the reduced mass $\\mu$ is, the smaller the spacing between energy levels."
   ]
  },
  {
   "cell_type": "markdown",
   "metadata": {},
   "source": [
    "------\n",
    "**6.** &#x1f9ee; What is the degeneracy of an atomic state described by the ${}^7\\text{G}$ term symbol?\n",
    "\n",
    "**Answer:** 63"
   ]
  },
  {
   "cell_type": "markdown",
   "metadata": {},
   "source": [
    "L = 4 and S = 3. There are (2L+1)(2S+1) = 9*7 = 63 possible states."
   ]
  },
  {
   "cell_type": "markdown",
   "metadata": {},
   "source": [
    "-----\n",
    "**7.** &#x1f3b2; One of the observed spectral lines in the Scandium atom corresponds to the transition from the electron configuration $[\\text{Ar}]\\text{4s}^2\\text{3d}^1$ to the electron configuration  $[\\text{Ar}]\\text{4s}^2\\text{4s}^1$ **Which of the following approximations is inadequate for describing this process?**\n",
    "\n",
    "**A.** long-wavelength approximation\n",
    "**B.** weak-field approximation\n",
    "**C.** long-time approximation\n",
    "\n",
    "**Answer:** A"
   ]
  },
  {
   "cell_type": "markdown",
   "metadata": {},
   "source": [
    "**8.** &#x1f3b2; **Which of the following effects is associated with the weak-field approximation we used to derive Fermi's Golden Rule being inaccurate.** Select all that apply.\n",
    "\n",
    "**A.** resonance Ramon spectroscopy.\n",
    "\n",
    "**B.** electric quadrupole transitions are observed.\n",
    "\n",
    "**C.** magnetic dipole transitions are observed.\n",
    "\n",
    "**D.** light with energy that is slightly different from the transition energy can be absorved.\n",
    "\n",
    "**E.** transitions in which the spin of the electron changes are observed.\n",
    "\n",
    "**F.** multi-photon processes, where the sum of the photons' energies equal the energy of the transition, are observed.\n",
    "\n",
    "**Answer:** A, F"
   ]
  },
  {
   "cell_type": "markdown",
   "metadata": {},
   "source": [
    "-----\n",
    "<p align=\"center\">\n",
    "<img src=\"butadiene.bmp\" alt=\"MO diagram of cyclobutadiene\" width=\"400\"/>\n",
    "</p>\n",
    "\n",
    "**9.** &#x1f3b2; A semi-accurate depiction of the molecular orbitals for the ground state of cyclobutadiene at its equilibrium geometry are provided above. The states, from lowest to highest energy, can be labelled HOMO-1, HOMO, LUMO, and LUMO+1 (where HOMO and LUMO refer to the highest-occupied and lowest-unoccupied molecular orbitals, respectively). **Which of the following transitions are electric-dipole allowed.** Select all that apply. \n",
    "| | |\n",
    "|--|--|\n",
    "|**A.** HOMO-1 to LUMO | **C.** HOMO to LUMO |\n",
    "|**B.** HOMO-1 to LUMO+1 | **D.** HOMO to LUMO+1 |\n",
    "| | |\n",
    "\n",
    "**Answer:** A,D"
   ]
  },
  {
   "cell_type": "markdown",
   "metadata": {},
   "source": [
    "----\n",
    "*Problem 10 uses the following detailed problem description.*\n",
    "\n",
    "Modern displays often use quantum dot technology, where one (or more) electrons are confined to a region within a material. For an electron confined to a rectangular region in two dimensions, it is reasonable to approximate its motion perpendicular to the rectangle with harmonic confinement. The time-independent Schr&ouml;dinger equation, eigenfunctions, and eigenvalues for a harmonically confined electron are, in atomic units:\n",
    "$$\n",
    "\\left(-\\tfrac{1}{2}\\tfrac{d^2}{dz^2} + \\tfrac{1}{2}\\kappa z^2\\right) \\psi_k(z) = E_k \\psi_k(z)\n",
    "$$\n",
    "where the eigenenergies are\n",
    "$$\n",
    "E_k = \\sqrt{\\kappa}\\left(k+\\tfrac{1}{2}\\right) \\qquad \\qquad k=0,1,2,\\ldots\n",
    "$$\n",
    "and the eigenfunctions are given in terms of the [Hermite polynomials](https://en.wikipedia.org/wiki/Hermite_polynomials), $H_k(z)$, as:\n",
    "\n",
    "$$\n",
    "\\psi_k^{(\\text{harm. osc.})}(z) =\\frac{1}{2^k k!}\\sqrt[4]{\\frac{\\kappa}{\\pi}}\n",
    "e^{-\\sqrt{\\kappa}z^2/2}H_k\\left(\\sqrt[4]{\\kappa}z\\right)\n",
    "$$\n",
    "\n",
    "The Hamiltonian for an electron confined to a rectangular region, in atomic units, is then:\n",
    "\n",
    "$$\n",
    "\\hat{H} = -\\frac{1}{2} \\frac{d^2}{dx^2} -\\frac{1}{2} \\frac{d^2}{dy^2} -\\frac{1}{2} \\frac{d^2}{dz^2} + V_{a_x}(x) + V_{a_y}(y) + \\frac{1}{2} \\kappa z^2\n",
    "$$\n",
    "\n",
    "where\n",
    "\n",
    "$$\n",
    "V_a(x) = \n",
    "\\begin{cases}\n",
    "    +\\infty & x\\leq 0\\\\\n",
    "    0       & 0\\lt x \\lt a\\\\\n",
    "    +\\infty & a \\leq x\n",
    "\\end{cases}\n",
    "$$\n",
    "\n",
    "**10.** &#x270d;&#xfe0f;&#x1F5A9; **What is the wavelength that corresponds to the lowest-energy excitation when $a_x = 16$, $a_y = 9$, and $k_z = 4$?** Report your answer in nm. *Hint: You may find it useful to recall that the speed of light is 137.036 in atomic units.*\n",
    "\n",
    "**Answer:** 787.9"
   ]
  },
  {
   "cell_type": "code",
   "execution_count": 3,
   "metadata": {},
   "outputs": [
    {
     "name": "stdout",
     "output_type": "stream",
     "text": [
      "The wavelength associated with the lowest-energy excitation of the specified quantum dot is 787.9 nm.\n"
     ]
    }
   ],
   "source": [
    "# The energy of excitation is\n",
    "excitation_energy = (4 - 1) * np.pi**2 / (2 * 16**2) \n",
    "# The wavelength in atomic units is thus\n",
    "wavelength_qdot_au = 2 * np.pi * 137.036 / excitation_energy\n",
    "# The wavelength in nanometers is, finally\n",
    "wavelength_qdot_nm = wavelength_qdot_au * 0.0529177 \n",
    "\n",
    "print(f'The wavelength associated with the lowest-energy excitation of the specified quantum dot is {wavelength_qdot_nm:.1f} nm.')"
   ]
  },
  {
   "cell_type": "markdown",
   "metadata": {},
   "source": [
    "We start by writing the eigenfunctions and eigenvalues for this system.\n",
    "\n",
    "This system is a sum of three Hamiltonians, two of which are 1-dimensional particles-in-a-box and one of which is a 1-dimensional Harmonic Oscillator. \n",
    "$$\n",
    "\\hat{H} = \\hat{H}_x + \\hat{H}_y + \\hat{H}_z\n",
    "$$\n",
    "with\n",
    "$$\n",
    "\\hat{H}_x = -\\frac{1}{2} \\frac{d^2}{dx^2} + V_{a_x}(x) \\\\\n",
    "\\hat{H}_y = -\\frac{1}{2} \\frac{d^2}{dy^2} + V_{a_y}(y) \\\\\n",
    "\\hat{H}_z = -\\frac{1}{2} \\frac{d^2}{dz^2} + \\frac{1}{2} \\kappa z^2\n",
    "$$\n",
    "By separation of variables, the eigenenergies are the sums of the eigenenergies of the components' energies which, using the formula for the energies of the particle-in-a-box in atomic units, gives\n",
    "$$\n",
    "E_{n_x,n_y,k} = \\frac{n_x^2 \\pi^2}{2a_x^2} + \\frac{n_y^2 \\pi^2}{2a_y^2} + \\sqrt{\\kappa}\\left(k+\\tfrac{1}{2}\\right) \\qquad n_x,n_y = 1,2,\\ldots \\quad k=0,1,\\ldots\n",
    "$$\n",
    "and the eigenfunctions are the products of the individual components' eigenfunctions\n",
    "$$\n",
    "\\psi_{n_x,n_y,k}(x,y,z) = \\frac{2}{\\sqrt{a_x a_y}} \\sin\\left(\\frac{n_x \\pi x}{a_x}\\right) \\sin\\left(\\frac{n_y \\pi y} {a_y}\\right) \\cdot\\frac{1}{2^k k!}\\sqrt[4]{\\frac{\\kappa}{\\pi}}\n",
    "e^{-\\sqrt{\\kappa}z^2/2}H_k\\left(\\sqrt[4]{\\kappa}z\\right)\n",
    "$$\n",
    "\n",
    "The ground state energy is easily determined for this system. The question is what the lowest excited state will be. It will correspond to an excitation in the $x$, $y$, or $z$ direction. The box in the $x$ direction is larger, which means its energy levels are more closely spaced. So the excitation will be in either the $x$ or $z$ direction. We should check. The excitations corresponding to the possibilities are\n",
    "$$\n",
    "E_x^{(1\\rightarrow2)} = \\frac{(4-1)\\pi^2}{512} = .0578 \\\\\n",
    "E_y^{(1\\rightarrow2)} = \\frac{(4-1)\\pi^2}{162} = .1828 \\\\\n",
    "E_z^{0\\rightarrow1} = (1-0)\\sqrt{4} = 2\n",
    "$$\n",
    "So the lowest-energy excitation occurs in the $x$ direction, which is intuitive given the nature of the system being described. \n",
    "\n",
    "The excitation energy of 0.0578 can be converged into wavelength in several different ways. The easiest is to recall that the speed of light in atomic units is 137.036. So from\n",
    "$$\n",
    "E = \\frac{hc}{\\lambda} = \\frac{2 \\pi \\hbar c}{\\lambda} \n",
    "$$\n",
    "we have, in atomic units, that\n",
    "$$\n",
    "\\lambda = \\frac{2 \\pi 137.036}{E} = \\frac{2\\cdot512 \\pi 137.036}{3 \\pi^2} = \\frac{1024 \\cdot 137.036}{3 \\pi} = 14889 a.u.\n",
    "$$\n",
    "To convert this from Bohr to nanometers, we use the fact that 1 Bohr = 0.0529177 nm. So \n",
    "$$\n",
    "\\lambda = 787.9 \\text{ nm}\n",
    "$$"
   ]
  }
 ],
 "metadata": {
  "interpreter": {
   "hash": "8867fa4a874d625ac151e80518eaa96dde9c32243951e64c9d5c087633ad9a9a"
  },
  "kernelspec": {
   "display_name": "Python 3 (ipykernel)",
   "language": "python",
   "name": "python3"
  },
  "language_info": {
   "codemirror_mode": {
    "name": "ipython",
    "version": 3
   },
   "file_extension": ".py",
   "mimetype": "text/x-python",
   "name": "python",
   "nbconvert_exporter": "python",
   "pygments_lexer": "ipython3",
   "version": "3.9.7"
  }
 },
 "nbformat": 4,
 "nbformat_minor": 2
}
